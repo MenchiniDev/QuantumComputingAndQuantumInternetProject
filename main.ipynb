{
 "cells": [
  {
   "cell_type": "markdown",
   "metadata": {},
   "source": [
    "**Quantum Computing and Quantum Internet project** \n",
    " "
   ]
  },
  {
   "cell_type": "markdown",
   "metadata": {},
   "source": [
    "*Lorenzo Menchini - 615580*"
   ]
  },
  {
   "cell_type": "markdown",
   "metadata": {},
   "source": [
    "firstly, lets import all the needed packages"
   ]
  },
  {
   "cell_type": "code",
   "execution_count": null,
   "metadata": {},
   "outputs": [
    {
     "name": "stdout",
     "output_type": "stream",
     "text": [
      "Requirement already satisfied: qiskit-aer in c:\\users\\loren\\desktop\\unipi\\esami_in_preparazione\\quantum computing and quantum internet\\quantum\\lib\\site-packages (0.15.1)"
     ]
    },
    {
     "name": "stderr",
     "output_type": "stream",
     "text": [
      "\n",
      "[notice] A new release of pip is available: 24.2 -> 24.3.1\n",
      "[notice] To update, run: python.exe -m pip install --upgrade pip\n"
     ]
    },
    {
     "name": "stdout",
     "output_type": "stream",
     "text": [
      "\n",
      "Requirement already satisfied: qiskit>=1.1.0 in c:\\users\\loren\\desktop\\unipi\\esami_in_preparazione\\quantum computing and quantum internet\\quantum\\lib\\site-packages (from qiskit-aer) (1.2.4)\n",
      "Requirement already satisfied: numpy>=1.16.3 in c:\\users\\loren\\desktop\\unipi\\esami_in_preparazione\\quantum computing and quantum internet\\quantum\\lib\\site-packages (from qiskit-aer) (2.1.3)\n",
      "Requirement already satisfied: scipy>=1.0 in c:\\users\\loren\\desktop\\unipi\\esami_in_preparazione\\quantum computing and quantum internet\\quantum\\lib\\site-packages (from qiskit-aer) (1.14.1)\n",
      "Requirement already satisfied: psutil>=5 in c:\\users\\loren\\desktop\\unipi\\esami_in_preparazione\\quantum computing and quantum internet\\quantum\\lib\\site-packages (from qiskit-aer) (6.1.0)\n",
      "Requirement already satisfied: rustworkx>=0.15.0 in c:\\users\\loren\\desktop\\unipi\\esami_in_preparazione\\quantum computing and quantum internet\\quantum\\lib\\site-packages (from qiskit>=1.1.0->qiskit-aer) (0.15.1)\n",
      "Requirement already satisfied: sympy>=1.3 in c:\\users\\loren\\desktop\\unipi\\esami_in_preparazione\\quantum computing and quantum internet\\quantum\\lib\\site-packages (from qiskit>=1.1.0->qiskit-aer) (1.13.3)\n",
      "Requirement already satisfied: dill>=0.3 in c:\\users\\loren\\desktop\\unipi\\esami_in_preparazione\\quantum computing and quantum internet\\quantum\\lib\\site-packages (from qiskit>=1.1.0->qiskit-aer) (0.3.9)\n",
      "Requirement already satisfied: python-dateutil>=2.8.0 in c:\\users\\loren\\desktop\\unipi\\esami_in_preparazione\\quantum computing and quantum internet\\quantum\\lib\\site-packages (from qiskit>=1.1.0->qiskit-aer) (2.9.0.post0)\n",
      "Requirement already satisfied: stevedore>=3.0.0 in c:\\users\\loren\\desktop\\unipi\\esami_in_preparazione\\quantum computing and quantum internet\\quantum\\lib\\site-packages (from qiskit>=1.1.0->qiskit-aer) (5.4.0)\n",
      "Requirement already satisfied: typing-extensions in c:\\users\\loren\\desktop\\unipi\\esami_in_preparazione\\quantum computing and quantum internet\\quantum\\lib\\site-packages (from qiskit>=1.1.0->qiskit-aer) (4.12.2)\n",
      "Requirement already satisfied: symengine<0.14,>=0.11 in c:\\users\\loren\\desktop\\unipi\\esami_in_preparazione\\quantum computing and quantum internet\\quantum\\lib\\site-packages (from qiskit>=1.1.0->qiskit-aer) (0.13.0)\n",
      "Requirement already satisfied: six>=1.5 in c:\\users\\loren\\desktop\\unipi\\esami_in_preparazione\\quantum computing and quantum internet\\quantum\\lib\\site-packages (from python-dateutil>=2.8.0->qiskit>=1.1.0->qiskit-aer) (1.16.0)\n",
      "Requirement already satisfied: pbr>=2.0.0 in c:\\users\\loren\\desktop\\unipi\\esami_in_preparazione\\quantum computing and quantum internet\\quantum\\lib\\site-packages (from stevedore>=3.0.0->qiskit>=1.1.0->qiskit-aer) (6.1.0)\n",
      "Requirement already satisfied: mpmath<1.4,>=1.1.0 in c:\\users\\loren\\desktop\\unipi\\esami_in_preparazione\\quantum computing and quantum internet\\quantum\\lib\\site-packages (from sympy>=1.3->qiskit>=1.1.0->qiskit-aer) (1.3.0)\n"
     ]
    },
    {
     "name": "stderr",
     "output_type": "stream",
     "text": [
      "ERROR: Could not find a version that satisfies the requirement qiskit-imb-runtime (from versions: none)\n",
      "\n",
      "[notice] A new release of pip is available: 24.2 -> 24.3.1\n",
      "[notice] To update, run: python.exe -m pip install --upgrade pip\n",
      "ERROR: No matching distribution found for qiskit-imb-runtime\n"
     ]
    },
    {
     "name": "stdout",
     "output_type": "stream",
     "text": [
      "Collecting pylatexenc"
     ]
    },
    {
     "name": "stderr",
     "output_type": "stream",
     "text": [
      "\n",
      "[notice] A new release of pip is available: 24.2 -> 24.3.1\n",
      "[notice] To update, run: python.exe -m pip install --upgrade pip\n"
     ]
    },
    {
     "name": "stdout",
     "output_type": "stream",
     "text": [
      "\n",
      "  Using cached pylatexenc-2.10-py3-none-any.whl\n",
      "Installing collected packages: pylatexenc\n",
      "Successfully installed pylatexenc-2.10\n"
     ]
    }
   ],
   "source": [
    "!pip install qiskit-aer\n",
    "!pip install qiskit-imb-runtime\n",
    "!pip install pylatexenc\n",
    "!pip install matplotlib"
   ]
  },
  {
   "cell_type": "code",
   "execution_count": null,
   "metadata": {},
   "outputs": [],
   "source": [
    "from qiskit import QuantumCircuit, QuantumRegister\n",
    "from qiskit_aer import AerSimulator\n",
    "from qiskit.visualization import plot_bloch_multivector\n",
    "from qiskit.quantum_info import Statevector, Operator\n",
    "import matplotlib.pyplot as plt"
   ]
  }
 ],
 "metadata": {
  "kernelspec": {
   "display_name": "Python 3",
   "language": "python",
   "name": "python3"
  },
  "language_info": {
   "codemirror_mode": {
    "name": "ipython",
    "version": 3
   },
   "file_extension": ".py",
   "mimetype": "text/x-python",
   "name": "python",
   "nbconvert_exporter": "python",
   "pygments_lexer": "ipython3",
   "version": "3.12.7"
  }
 },
 "nbformat": 4,
 "nbformat_minor": 2
}
