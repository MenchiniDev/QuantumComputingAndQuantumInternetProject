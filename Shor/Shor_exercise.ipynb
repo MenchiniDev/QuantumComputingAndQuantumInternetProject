{
 "cells": [
  {
   "attachments": {},
   "cell_type": "markdown",
   "id": "b7141e18-cbb7-4d28-b04e-c67d2d7a0949",
   "metadata": {},
   "source": [
    "# Implementing Shor's Algorithm in Qiskit\n",
    "\n",
    "<img src=\"./shor_circuit_1.svg\">\n",
    "\n",
    "Shor's algorithm is a quantum algorithm for integer factorization, an essential problem in cryptography. This notebook provides a step-by-step implementation of Shor's algorithm, highlighting the concepts and quantum mechanics behind it. \n",
    "\n",
    "You'll learn:\n",
    "- How Shor's algorithm works\n",
    "- How to construct the quantum circuit for period-finding\n",
    "- How to run Shor's algorithm using Qiskit\n",
    "\n",
    "You can set the number of qubits for the circuit, making this implementation flexible for various scenarios.\n",
    "## Background: Why Factorization?\n",
    "\n",
    "The security of many cryptographic systems (e.g., RSA) relies on the difficulty of factoring large integers. Shor's algorithm uses quantum mechanics to perform this task efficiently, threatening the basis of classical cryptography.\n",
    "\n",
    "The algorithm consists of two parts:\n",
    "1. **Classical Preprocessing**: Reduction of the problem to finding the period of a modular function.\n",
    "2. **Quantum Period-Finding**: Use of quantum superposition and interference to determine the period of the function.\n",
    "\n",
    "We implement both parts here.\n"
   ]
  },
  {
   "cell_type": "code",
   "execution_count": null,
   "id": "5c4dd6d4-e5c0-4f43-a81c-f0dc02604ebc",
   "metadata": {},
   "outputs": [],
   "source": [
    "# Import necessary libraries\n",
    "from qiskit import QuantumCircuit\n",
    "from qiskit.visualization import plot_histogram\n",
    "from qiskit_aer import AerSimulator\n",
    "from math import gcd\n",
    "from fractions import Fraction\n",
    "import numpy as np"
   ]
  },
  {
   "cell_type": "markdown",
   "id": "8be7f769-611a-4c5e-864d-cb5b79981511",
   "metadata": {},
   "source": [
    "## Step 1: Classical Preprocessing\n",
    "\n",
    "Given an integer $N$, Shor's algorithm attempts to find its prime factors. We:\n",
    "1. Pick a random number $a$ such that $1 < a < N$.\n",
    "2. Compute $\\text{gcd}(a, N)$. If it is not 1, we already have a factor!\n",
    "3. Use quantum computation to find the period $r$ of the function:\n",
    "   \\begin{equation}\n",
    "   f(x) = a^x \\mod N\n",
    "   \\end{equation}\n",
    "\n",
    "   If $r$ is found, the factors of $N$ are:\n",
    "   \\begin{equation}\n",
    "   \\text{Factors} = \\text{gcd}(a^{r/2} \\pm 1, N)\n",
    "   \\end{equation}\n"
   ]
  },
  {
   "cell_type": "code",
   "execution_count": null,
   "id": "3c2583ed-c74a-4ce5-ab95-c7c433d7d901",
   "metadata": {},
   "outputs": [],
   "source": [
    "import random\n",
    "\n",
    "def classical_preprocessing(N):\n",
    "    \"\"\"Perform the classical preprocessing for Shor's algorithm.\"\"\"\n",
    "    \n",
    "    \"\"\" what we should do\n",
    "    # Pick a random number a such that 1 < a < N\n",
    "    a = random.randint(2, N - 1)\n",
    "    print(f\"Chosen a: {a}\")\n",
    "    \n",
    "    # Compute gcd(a, N)\n",
    "    factor = gcd(a, N)\n",
    "    if factor != 1:\n",
    "        print(f\"Found factor classically: {factor}\")\n",
    "        return factor, None\n",
    "    \"\"\"\n",
    "\n",
    "    # what we do, for simplicity\n",
    "    a = 7\n",
    "    \n",
    "    return a, N\n",
    "\n"
   ]
  },
  {
   "cell_type": "code",
   "execution_count": null,
   "id": "dc47e2f7-0bea-4df4-8a61-564bcb1df392",
   "metadata": {},
   "outputs": [],
   "source": [
    "import matplotlib.pyplot as plt\n",
    "\n",
    "N_const = 35\n",
    "a = 3\n",
    "\n",
    "# Calculate the plotting data\n",
    "xvals = np.arange(N_const)\n",
    "yvals = [np.mod(a**x, N_const) for x in xvals]\n",
    "\n",
    "# Use matplotlib to display it nicely\n",
    "fig, ax = plt.subplots()\n",
    "ax.plot(xvals, yvals, linewidth=1, linestyle='dotted', marker='x')\n",
    "ax.set(xlabel='$x$', ylabel=f'${a}^x$ mod ${N_const}$',\n",
    "       title=\"Example of Periodic Function in Shor's Algorithm\")\n",
    "try: # plot r on the graph\n",
    "    r = yvals[1:].index(1) + 1\n",
    "    plt.annotate('', xy=(0,1), xytext=(r,1),\n",
    "                 arrowprops=dict(arrowstyle='<->'))\n",
    "    plt.annotate(f'$r={r}$', xy=(r/3,1.5))\n",
    "except ValueError:\n",
    "    print('Could not find period, check a < N and have no common factors.')"
   ]
  },
  {
   "cell_type": "markdown",
   "id": "2093a723-533b-467a-805d-640b402414d0",
   "metadata": {},
   "source": [
    "## Step 2: Quantum Period-Finding\n",
    "\n",
    "The period-finding component uses a quantum circuit to find the period $r$ of $f(x) = a^x \\mod N$. This involves:\n",
    "1. Preparing a superposition of states.\n",
    "2. Applying a unitary operator to encode the function $f(x)$.\n",
    "3. Performing a quantum Fourier transform (QFT) to extract the period.\n",
    "\n",
    "We construct the circuit step by step below.\n",
    "\n",
    "In this example we will solve the period finding problem for $a=7$ and $N=15$. We provide the circuits for $U$ where:\n",
    "\n",
    "$$U|y\\rangle = |ay\\bmod 15\\rangle $$\n",
    "\n",
    "without explanation. To create $U^x$, we will simply repeat the circuit $x$ times. In the next section we will discuss a general method for creating these circuits efficiently. The function `c_amod15` returns the controlled-U gate for `a`, repeated `power` times.\n"
   ]
  },
  {
   "cell_type": "code",
   "execution_count": null,
   "id": "4e1836f9-6216-40e6-b919-71758c1b0cd4",
   "metadata": {},
   "outputs": [],
   "source": [
    "def c_amod15(a, power):\n",
    "    \"\"\"Controlled multiplication by a mod 15\"\"\"\n",
    "    if a not in [2,4,7,8,11,13]:\n",
    "        raise ValueError(\"'a' must be 2,4,7,8,11 or 13\")\n",
    "    U = QuantumCircuit(4)\n",
    "    for _iteration in range(power):\n",
    "        if a in [2,13]:\n",
    "            U.swap(2,3)\n",
    "            U.swap(1,2)\n",
    "            U.swap(0,1)\n",
    "        if a in [7,8]:\n",
    "            U.swap(0,1)\n",
    "            U.swap(1,2)\n",
    "            U.swap(2,3)\n",
    "        if a in [4, 11]:\n",
    "            U.swap(1,3)\n",
    "            U.swap(0,2)\n",
    "        if a in [7,11,13]:\n",
    "            for q in range(4):\n",
    "                U.x(q)\n",
    "    U = U.to_gate()\n",
    "    U.name = f\"{a}^{power} mod 15\"\n",
    "    c_U = U.control()\n",
    "    return c_U"
   ]
  },
  {
   "cell_type": "code",
   "execution_count": null,
   "id": "b1f871dd-3946-4a50-ad53-6787578253b0",
   "metadata": {},
   "outputs": [],
   "source": [
    "# Specify variables\n",
    "N_COUNT = 8  # number of counting qubits (i.e., phase register)\n",
    "a = 7"
   ]
  },
  {
   "cell_type": "code",
   "execution_count": null,
   "id": "34578bad-fb0d-42c9-ba3f-b32d2f594eab",
   "metadata": {},
   "outputs": [],
   "source": [
    "def qft(n):\n",
    "    \"\"\"n-qubit QFT\"\"\"\n",
    "\n",
    "    # add your code here\n",
    "\n",
    "def qft_dagger(n):\n",
    "    \"\"\"n-qubit QFTdagger\"\"\"\n",
    "\n",
    "    # add your code here\n",
    "\n",
    "#qft(4).draw(fold=-1, output=\"mpl\")\n",
    "qft_dagger(4).draw(fold=-1, output=\"mpl\")"
   ]
  },
  {
   "cell_type": "code",
   "execution_count": null,
   "id": "93857d25-8b7e-4fa4-9322-f5d643acdca1",
   "metadata": {},
   "outputs": [],
   "source": [
    "# Create QuantumCircuit with N_COUNT counting qubits\n",
    "# plus 4 qubits for U to act on\n",
    "qc = QuantumCircuit(N_COUNT + 4, N_COUNT)\n",
    "\n",
    "# Initialize counting qubits\n",
    "# in state |+>\n",
    "\n",
    "# And auxiliary register in state |1>\n",
    "\n",
    "# Do controlled-U operations\n",
    "\n",
    "# Do inverse-QFT\n",
    "\n",
    "# Measure circuit\n",
    "qc.measure(range(N_COUNT), range(N_COUNT))\n",
    "qc.draw(fold=-1, output=\"mpl\")  # -1 means 'do not fold'\n"
   ]
  },
  {
   "cell_type": "markdown",
   "id": "d3a72cac-dea8-42a0-80ff-26b03d75ef19",
   "metadata": {},
   "source": [
    "## Step 3: Running the Quantum Circuit\n",
    "\n",
    "We run the quantum circuit. These results are then processed classically to deduce the period $r$.\n"
   ]
  },
  {
   "cell_type": "code",
   "execution_count": null,
   "id": "c41596fd-4f1a-423c-bcdf-45f864a67047",
   "metadata": {},
   "outputs": [],
   "source": [
    "# get a fake backend\n",
    "\n",
    "from qiskit_ibm_runtime.fake_provider import FakeParisV2\n",
    "backend = FakeParisV2()  # emulates Paris quantum computer\n",
    "backend"
   ]
  },
  {
   "cell_type": "code",
   "execution_count": null,
   "id": "bdb97f2a-b657-43b3-9a58-9d72e5198333",
   "metadata": {},
   "outputs": [],
   "source": [
    "# use the AerSimulator backend\n",
    "backend = AerSimulator()\n",
    "backend"
   ]
  },
  {
   "cell_type": "code",
   "execution_count": null,
   "id": "eaa06318-0c88-410d-827f-2cc969d16854",
   "metadata": {},
   "outputs": [],
   "source": [
    "# get a real backend\n",
    "\n",
    "from qiskit_ibm_runtime import QiskitRuntimeService\n",
    " \n",
    "service = QiskitRuntimeService(channel=\"ibm_quantum\", token=\"<REPLACE_WITH_MY_IBM_QUANTUM_TOKEN>\")\n",
    "backend = service.least_busy(simulator=False, operational=True)\n",
    "backend"
   ]
  },
  {
   "cell_type": "code",
   "execution_count": null,
   "id": "9cd174d5-acfa-4ef0-a6e0-ab820a476f6e",
   "metadata": {},
   "outputs": [],
   "source": [
    "def run_circuit(circuit, backend):\n",
    "    \"\"\"Run the quantum circuit on the specified backend.\"\"\"\n",
    "    # Circuits must obey the ISA of the backend.\n",
    "    # Convert to ISA circuits\n",
    "    from qiskit.transpiler.preset_passmanagers import generate_preset_pass_manager\n",
    "    from qiskit_ibm_runtime import SamplerV2 as Sampler\n",
    "\n",
    "    pm = generate_preset_pass_manager(backend=backend, optimization_level=1)\n",
    "    isa_circuit = pm.run(circuit)\n",
    "\n",
    "    sampler = Sampler(mode=backend)  # our Primitive\n",
    " \n",
    "    job = sampler.run([isa_circuit])  # parameter is a list of PUBs\n",
    "\n",
    "    return job\n",
    "    "
   ]
  },
  {
   "cell_type": "code",
   "execution_count": null,
   "id": "c6544e54-0097-4c82-9e13-283a6a2bf0d8",
   "metadata": {},
   "outputs": [],
   "source": [
    "def get_counts(job):\n",
    "    result = job.result()\n",
    "    # Get results for the first (and only) PUB\n",
    "    pub_result = result[0]\n",
    "    \n",
    "    # Get counts from the classical register \"c\".\n",
    "    counts = pub_result.data.c.get_counts()\n",
    "    return counts"
   ]
  },
  {
   "cell_type": "markdown",
   "id": "d83dfe78-08ec-4b29-816b-77392c3dc553",
   "metadata": {},
   "source": [
    "## Step 4: Deduce Factors from Period\n",
    "\n",
    "Using the period $r$, we deduce the factors of $N$ classically. If the period is not found or is invalid, the process is repeated.\n"
   ]
  },
  {
   "cell_type": "code",
   "execution_count": null,
   "id": "0856c6cb-ec0f-48b9-8673-69d172aeacfe",
   "metadata": {},
   "outputs": [],
   "source": [
    "def deduce_factors(a, N, counts):\n",
    "    \"\"\"Deduce factors of N from the measurement results.\"\"\"\n",
    "    # Extract the most frequent result\n",
    "    measured = max(counts, key=counts.get)\n",
    "    phase = int(measured, 2) / (2**len(measured))\n",
    "    \n",
    "    # Use the phase to calculate the period\n",
    "    r = Fraction(phase).limit_denominator(N).denominator\n",
    "    print(f\"Estimated period r: {r}\")\n",
    "    \n",
    "    # Compute the factors\n",
    "    if r % 2 != 0 or pow(a, r // 2, N) == -1 % N:\n",
    "        print(\"Period invalid, retrying...\")\n",
    "        return None, None\n",
    "    \n",
    "    factor1 = gcd(pow(a, r // 2) - 1, N)\n",
    "    factor2 = gcd(pow(a, r // 2) + 1, N)\n",
    "    return factor1, factor2\n"
   ]
  },
  {
   "cell_type": "markdown",
   "id": "87a0103f-8189-4b01-b13a-22541a6f63ac",
   "metadata": {},
   "source": [
    "## Run Period finding!\n",
    "\n",
    "Let's see the results for $N=15$, $a=7$.\n"
   ]
  },
  {
   "cell_type": "code",
   "execution_count": null,
   "id": "739ea7d1-d9a4-4b1e-88df-3b9e77533757",
   "metadata": {},
   "outputs": [],
   "source": [
    "job = run_circuit(qc, backend)\n",
    "counts = get_counts(job)\n",
    "plot_histogram(counts)"
   ]
  },
  {
   "cell_type": "code",
   "execution_count": null,
   "id": "bbe1e506-8c7f-4ef4-b9aa-327bb464d75c",
   "metadata": {},
   "outputs": [],
   "source": [
    "import pandas as pd\n",
    "rows, measured_phases = [], []\n",
    "for output in counts:\n",
    "    decimal = int(output, 2)  # Convert (base 2) string to decimal\n",
    "    phase = decimal/(2**N_COUNT)  # Find corresponding eigenvalue\n",
    "    measured_phases.append(phase)\n",
    "    # Add these values to the rows in our table:\n",
    "    rows.append([f\"{output}(bin) = {decimal:>3}(dec)\",\n",
    "                 f\"{decimal}/{2**N_COUNT} = {phase:.2f}\"])\n",
    "# Print the rows in a table\n",
    "headers=[\"Register Output\", \"Phase\"]\n",
    "df = pd.DataFrame(rows, columns=headers)\n",
    "print(df)"
   ]
  },
  {
   "cell_type": "code",
   "execution_count": null,
   "id": "16db57bd-fef4-4966-b5b9-0bce2d6ba2df",
   "metadata": {},
   "outputs": [],
   "source": [
    "rows = []\n",
    "for phase in measured_phases:\n",
    "    frac = Fraction(phase).limit_denominator(15)\n",
    "    rows.append([phase,\n",
    "                 f\"{frac.numerator}/{frac.denominator}\",\n",
    "                 frac.denominator])\n",
    "# Print as a table\n",
    "headers=[\"Phase\", \"Fraction\", \"Guess for r\"]\n",
    "df = pd.DataFrame(rows, columns=headers)\n",
    "print(df)"
   ]
  },
  {
   "cell_type": "markdown",
   "id": "e0196905-6d59-4197-a259-620da422f3fc",
   "metadata": {},
   "source": [
    "We can see that two of the measured eigenvalues provided us with the correct result: $r=4$, and we can see that Shor’s algorithm has a chance of failing. These bad results are because $s=0$, or because $s$ and $r$ are not coprime and instead of $r$ we are given a factor of $r$. The easiest solution to this is to simply repeat the experiment until we get a satisfying result for $r$."
   ]
  },
  {
   "cell_type": "markdown",
   "id": "1316e1cb-2eac-4631-980f-235201d61118",
   "metadata": {},
   "source": [
    "Now we have $r$, we might be able to use this to find a factor of $N$. Since:\n",
    "\n",
    "$$a^r \\bmod N = 1 $$\n",
    "\n",
    "then:\n",
    "\n",
    "$$(a^r - 1) \\bmod N = 0 $$\n",
    "\n",
    "which means $N$ must divide $a^r-1$. And if $r$ is also even, then we can write:\n",
    "\n",
    "$$a^r -1 = (a^{r/2}-1)(a^{r/2}+1)$$\n",
    "\n",
    "(if $r$ is not even, we cannot go further and must try again with a different value for $a$). There is then a high probability that the greatest common divisor of $N$ and either $a^{r/2}-1$, or $a^{r/2}+1$ is a proper factor of $N$\""
   ]
  },
  {
   "cell_type": "code",
   "execution_count": null,
   "id": "2877c61a-a8e3-4acb-a24c-73e90d6913de",
   "metadata": {},
   "outputs": [],
   "source": [
    "r=4\n",
    "guesses = [gcd(a**(r//2)-1, N_const), gcd(a**(r//2)+1, N_const)]\n",
    "print(guesses)"
   ]
  },
  {
   "cell_type": "code",
   "execution_count": null,
   "id": "c199c92a-83ef-48c6-9bc3-3d23d4333ff5",
   "metadata": {},
   "outputs": [],
   "source": []
  },
  {
   "cell_type": "code",
   "execution_count": null,
   "id": "cfd6f4e0-8dd6-4773-888d-f65f95c9ec32",
   "metadata": {},
   "outputs": [],
   "source": []
  }
 ],
 "metadata": {
  "kernelspec": {
   "display_name": "Python 3 (ipykernel)",
   "language": "python",
   "name": "python3"
  },
  "language_info": {
   "codemirror_mode": {
    "name": "ipython",
    "version": 3
   },
   "file_extension": ".py",
   "mimetype": "text/x-python",
   "name": "python",
   "nbconvert_exporter": "python",
   "pygments_lexer": "ipython3",
   "version": "3.12.5"
  }
 },
 "nbformat": 4,
 "nbformat_minor": 5
}
